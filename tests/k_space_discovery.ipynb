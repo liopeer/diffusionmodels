{
 "cells": [
  {
   "cell_type": "code",
   "execution_count": 1,
   "metadata": {},
   "outputs": [],
   "source": [
    "import context\n",
    "from utils.datasets import QuarterFastMRI, MNISTTrainDataset, FastMRIBrainTrain\n",
    "from torch.utils.data import DataLoader\n",
    "import matplotlib.pyplot as plt\n",
    "import torch\n",
    "import os\n",
    "import h5py\n",
    "import torchvision\n",
    "from torchvision.transforms import Normalize\n",
    "from torchvision.io import read_image\n",
    "from torchvision.utils import make_grid\n",
    "import numpy as np\n",
    "from utils.helpers import complex_to_2channelfloat"
   ]
  },
  {
   "cell_type": "code",
   "execution_count": 2,
   "metadata": {},
   "outputs": [],
   "source": [
    "root = \"/itet-stor/peerli/bmicdatasets-originals/Originals/fastMRI/brain/multicoil_train\"\n",
    "\n",
    "h5_files = [os.path.join(root, elem) for elem in sorted(os.listdir(root))]\n",
    "imgs = []\n",
    "for file_name in h5_files:\n",
    "    file = h5py.File(file_name, 'r')\n",
    "    slices = file[\"reconstruction_rss\"].shape[0]\n",
    "    for i in range(slices):\n",
    "        imgs.append({\"file_name\":file_name, \"index\":i})"
   ]
  },
  {
   "cell_type": "code",
   "execution_count": 22,
   "metadata": {},
   "outputs": [],
   "source": [
    "index = 100\n",
    "\n",
    "file_name = imgs[index][\"file_name\"]\n",
    "index = imgs[index][\"index\"]\n",
    "file = h5py.File(file_name, 'r')\n",
    "img = torch.tensor(np.array(file[\"kspace\"]))\n",
    "img = complex_to_2channelfloat(img)\n",
    "file.close()"
   ]
  },
  {
   "cell_type": "code",
   "execution_count": 32,
   "metadata": {},
   "outputs": [
    {
     "data": {
      "text/plain": [
       "torch.Size([10, 20, 40, 30])"
      ]
     },
     "execution_count": 32,
     "metadata": {},
     "output_type": "execute_result"
    }
   ],
   "source": [
    "x = torch.randn(10,20,30,40)\n",
    "x.permute(*[i for i in range(x.dim()-2)],-1,-2).shape"
   ]
  },
  {
   "cell_type": "code",
   "execution_count": 7,
   "metadata": {},
   "outputs": [],
   "source": [
    "test = torch.zeros(16, 20, 2, 640, 320)\n",
    "for i in range(16):\n",
    "    test[i] = i"
   ]
  },
  {
   "cell_type": "code",
   "execution_count": 15,
   "metadata": {},
   "outputs": [],
   "source": [
    "orig_shape = test.shape\n",
    "test = test.view(-1, *orig_shape[-3:])\n",
    "test = test.view(*orig_shape)"
   ]
  },
  {
   "cell_type": "code",
   "execution_count": 17,
   "metadata": {},
   "outputs": [
    {
     "name": "stdout",
     "output_type": "stream",
     "text": [
      "tensor([])\n",
      "tensor([])\n",
      "tensor([])\n",
      "tensor([])\n",
      "tensor([])\n",
      "tensor([])\n",
      "tensor([])\n",
      "tensor([])\n",
      "tensor([])\n",
      "tensor([])\n",
      "tensor([])\n",
      "tensor([])\n",
      "tensor([])\n",
      "tensor([])\n",
      "tensor([])\n",
      "tensor([])\n"
     ]
    }
   ],
   "source": [
    "for i in range(16):\n",
    "    print(test[i][test[i]!=i])"
   ]
  },
  {
   "cell_type": "code",
   "execution_count": null,
   "metadata": {},
   "outputs": [],
   "source": []
  }
 ],
 "metadata": {
  "kernelspec": {
   "display_name": "liotorch",
   "language": "python",
   "name": "python3"
  },
  "language_info": {
   "codemirror_mode": {
    "name": "ipython",
    "version": 3
   },
   "file_extension": ".py",
   "mimetype": "text/x-python",
   "name": "python",
   "nbconvert_exporter": "python",
   "pygments_lexer": "ipython3",
   "version": "3.11.5"
  }
 },
 "nbformat": 4,
 "nbformat_minor": 2
}

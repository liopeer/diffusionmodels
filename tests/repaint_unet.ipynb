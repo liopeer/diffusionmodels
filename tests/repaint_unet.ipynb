{
 "cells": [
  {
   "cell_type": "code",
   "execution_count": 1,
   "metadata": {},
   "outputs": [],
   "source": [
    "import context\n",
    "from models.repaint_unet.unet import UNetModel\n",
    "from utils.datasets import QuarterFastMRI, MNISTTrainDataset, FastMRIBrainTrain\n",
    "from torch.utils.data import DataLoader\n",
    "import matplotlib.pyplot as plt\n",
    "import torch"
   ]
  },
  {
   "cell_type": "code",
   "execution_count": 2,
   "metadata": {},
   "outputs": [],
   "source": [
    "ds = FastMRIBrainTrain(\"/itet-stor/peerli/bmicdatasets-originals/Originals/fastMRI/brain/multicoil_train\", size=64)\n",
    "dl = DataLoader(ds, batch_size=4)\n",
    "x = next(iter(dl))[0]"
   ]
  },
  {
   "cell_type": "code",
   "execution_count": 3,
   "metadata": {},
   "outputs": [],
   "source": [
    "# for 64x64 images we can have downsample factors: (2, 4, 8, 16)\n",
    "# where we arrive at 4x4 feature maps at the bottle neck\n",
    "\n",
    "model = UNetModel(\n",
    "    image_size = 64,\n",
    "    in_channels = 1,\n",
    "    model_channels = 64,\n",
    "    out_channels = 1,\n",
    "    num_res_blocks = 2,\n",
    "    attention_resolutions = (4, 8, 16),\n",
    "    time_embed_dim=256,\n",
    "    dropout = 0.0,\n",
    "    num_heads = 4\n",
    ")"
   ]
  },
  {
   "cell_type": "code",
   "execution_count": 4,
   "metadata": {},
   "outputs": [],
   "source": [
    "out = model(x, torch.randn(4,256))"
   ]
  },
  {
   "cell_type": "code",
   "execution_count": null,
   "metadata": {},
   "outputs": [],
   "source": []
  }
 ],
 "metadata": {
  "kernelspec": {
   "display_name": "liotorch",
   "language": "python",
   "name": "python3"
  },
  "language_info": {
   "codemirror_mode": {
    "name": "ipython",
    "version": 3
   },
   "file_extension": ".py",
   "mimetype": "text/x-python",
   "name": "python",
   "nbconvert_exporter": "python",
   "pygments_lexer": "ipython3",
   "version": "3.11.5"
  }
 },
 "nbformat": 4,
 "nbformat_minor": 2
}

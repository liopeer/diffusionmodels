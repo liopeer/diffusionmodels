{
 "cells": [
  {
   "cell_type": "code",
   "execution_count": null,
   "metadata": {},
   "outputs": [],
   "source": [
    "import context\n",
    "from utils.datasets import UnconditionedCifar10Dataset\n",
    "from torch.utils.data import DataLoader\n",
    "from models.diffusion import DiffusionModel, ForwardDiffusion\n",
    "from models.unet import UNet\n",
    "import torch\n",
    "\n",
    "\n",
    "ds = UnconditionedCifar10Dataset(\"/itet-stor/peerli/net_scratch\")\n",
    "dl = DataLoader(ds, batch_size=10)\n",
    "\n",
    "k = next(iter(dl))\n",
    "\n",
    "device = torch.device(\"cpu\")\n",
    "\n",
    "model = DiffusionModel(UNet(4), ForwardDiffusion(1000)).to(device)\n",
    "\n",
    "samples = model.sample(2, 32)"
   ]
  }
 ],
 "metadata": {
  "language_info": {
   "name": "python"
  },
  "orig_nbformat": 4
 },
 "nbformat": 4,
 "nbformat_minor": 2
}

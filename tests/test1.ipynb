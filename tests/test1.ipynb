{
 "cells": [
  {
   "cell_type": "code",
   "execution_count": 3,
   "metadata": {},
   "outputs": [],
   "source": [
    "import context\n",
    "import torch\n",
    "import torch.nn as nn\n",
    "from diffusion_models.models import UNet\n",
    "from torchvision.datasets import FashionMNIST\n",
    "from torch.utils.data import DataLoader\n",
    "from torchvision.transforms import ToTensor\n",
    "import matplotlib.pyplot as plt\n",
    "from torch.fft import fft2, ifft2, fftshift, ifftshift\n",
    "from torch.distributions import Normal, MultivariateNormal\n",
    "from diffusion_models.mri_forward.undersampling_mask import *\n",
    "from diffusion_models.models import UNet"
   ]
  },
  {
   "cell_type": "code",
   "execution_count": 4,
   "metadata": {},
   "outputs": [],
   "source": [
    "train = FashionMNIST(\"data\", train=True, download=True, transform=ToTensor())\n",
    "test = FashionMNIST(\"data\", train=False, download=True, transform=ToTensor())\n",
    "\n",
    "train_loader = DataLoader(train, batch_size=5000)\n",
    "test_loader = DataLoader(test, batch_size=len(test))"
   ]
  },
  {
   "cell_type": "code",
   "execution_count": 5,
   "metadata": {},
   "outputs": [],
   "source": [
    "sample = torch.randn((10, 3, 200, 300))"
   ]
  },
  {
   "cell_type": "code",
   "execution_count": null,
   "metadata": {},
   "outputs": [],
   "source": [
    "\n",
    "import matplotlib as mpl\n",
    "mpl.rc('image', cmap='gray')\n",
    "\n",
    "fig, ax = plt.subplots(3,2)\n",
    "ax[0,0].imshow(naive_undersampling2d(sample.shape, 2))\n",
    "ax[0,1].imshow(naive_undersampling1d_v(sample.shape, 2))\n",
    "ax[1,0].imshow(naive_undersampling1d_h(sample.shape, 2))\n",
    "ax[1,1].imshow(gaussian_kernel1d_v(sample.shape, 0.3))\n",
    "ax[2,0].imshow(gaussian_kernel1d_h(sample.shape, 0.3))\n",
    "ax[2,1].imshow(gaussian_kernel2d(sample.shape, 0.3))"
   ]
  },
  {
   "cell_type": "code",
   "execution_count": 6,
   "metadata": {},
   "outputs": [],
   "source": [
    "mask = StochasticUndersamplingMask(\"gauss_2d\", 0.3)\n",
    "mask2 = UndersamplingMask(\"naive_1d_v\", 3)"
   ]
  },
  {
   "attachments": {},
   "cell_type": "markdown",
   "metadata": {},
   "source": [
    "I have to go via the CDF, for finding the undersampling factor!"
   ]
  },
  {
   "cell_type": "code",
   "execution_count": 7,
   "metadata": {},
   "outputs": [],
   "source": [
    "out, mask = mask(sample)"
   ]
  },
  {
   "cell_type": "code",
   "execution_count": 8,
   "metadata": {},
   "outputs": [],
   "source": [
    "noise = torch.randn_like(mask)"
   ]
  },
  {
   "cell_type": "code",
   "execution_count": 9,
   "metadata": {},
   "outputs": [],
   "source": [
    "mult = noise * mask\n",
    "add = noise + mask"
   ]
  },
  {
   "cell_type": "code",
   "execution_count": 25,
   "metadata": {},
   "outputs": [],
   "source": [
    "mean = torch.mean(mask)"
   ]
  },
  {
   "cell_type": "code",
   "execution_count": 36,
   "metadata": {},
   "outputs": [],
   "source": [
    "import numpy as np"
   ]
  },
  {
   "cell_type": "code",
   "execution_count": 45,
   "metadata": {},
   "outputs": [
    {
     "data": {
      "text/plain": [
       "(torch.Size([60000]), tensor(40413))"
      ]
     },
     "execution_count": 45,
     "metadata": {},
     "output_type": "execute_result"
    }
   ],
   "source": [
    "add.ge(mean*2).view(-1).shape, add.ge(np.log(1)).view(-1).sum()"
   ]
  },
  {
   "cell_type": "code",
   "execution_count": null,
   "metadata": {},
   "outputs": [],
   "source": []
  }
 ],
 "metadata": {
  "kernelspec": {
   "display_name": "liotorch",
   "language": "python",
   "name": "python3"
  },
  "language_info": {
   "codemirror_mode": {
    "name": "ipython",
    "version": 3
   },
   "file_extension": ".py",
   "mimetype": "text/x-python",
   "name": "python",
   "nbconvert_exporter": "python",
   "pygments_lexer": "ipython3",
   "version": "3.10.9"
  },
  "orig_nbformat": 4
 },
 "nbformat": 4,
 "nbformat_minor": 2
}
